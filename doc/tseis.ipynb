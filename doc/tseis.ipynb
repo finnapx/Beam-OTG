{
 "cells": [
  {
   "cell_type": "markdown",
   "id": "minute-authorization",
   "metadata": {},
   "source": [
    "# Documentacion\n",
    "\n",
    "Esta es la documentacion cutre del programa. Espero que me sirva en\n",
    "algun momento, pero dudo que sea vista por mis revisores, la\n",
    "verdad..."
   ]
  },
  {
   "cell_type": "markdown",
   "id": "geographic-illinois",
   "metadata": {},
   "source": [
    "## Indice\n",
    "\n",
    "- [Input de usuario](#Input-de-usuario)\n",
    "- [Definicion de elementos](#Definicion-de-elementos)\n",
    "- [Cargas distribuidas](#Cargas-distribuidas)\n",
    "- [Cargas nodales](#Cargas-nodales)\n",
    "- [Analisis estatico](#Analisis-estatico)\n",
    "- [Combinaciones de carga](#Combinaciones-de-carga)\n",
    "- [Caso mas desfavorable](#Caso-mas-desfavorable)\n",
    "- [Flujo de la aplicacion](#Flujo-de-la-aplicacion)"
   ]
  },
  {
   "cell_type": "code",
   "execution_count": 1,
   "id": "recreational-province",
   "metadata": {},
   "outputs": [],
   "source": [
    "from numpy import array, zeros, ones, round as mround, vstack, reshape\n",
    "from numpy.linalg import inv, solve\n",
    "from math import pi as π, sin, cos\n",
    "def line(): print('---- -- - -- ----')"
   ]
  },
  {
   "cell_type": "markdown",
   "id": "forced-commons",
   "metadata": {},
   "source": [
    "## Input de usuario\n",
    "\n",
    "- [volver](#Indice)\n",
    "\n",
    "El usuario final es el encargado de llenar un documento de texto el\n",
    "cual cuenta con la informacion principal para definir y generar una\n",
    "estructura de marcos de hormigon armado. La estructura en cuestion,\n",
    "para esta version del programa, se espera que conserve una simetria a\n",
    "lo largo de sus ejes de manera independiente, en otras palabras, que\n",
    "para ambas direcciones de analisis, todas las vigas deben ser iguales\n",
    "entre si y lo mismo aplica para las columnas.\n",
    "\n",
    "El input esperado por el usuario contempla la siguiente forma:\n",
    "\n",
    "```\n",
    "numero de pisos          : 1\n",
    "numero habitaciones      :1\n",
    "numero de marcos         :1\n",
    "altura de piso           :300\n",
    "distancia entre columnas :200\n",
    "distancia entre marcos   :0\n",
    "\n",
    "modulo de poisson 𝜈      :0.25\n",
    "resistencia del hormigon :19.5\n",
    "densidad del hormigon    : 2500\n",
    "carga viva               :0\n",
    "\n",
    "zona sismica             :\n",
    "tipo de suelo            :\n",
    "categoria de edificacion :\n",
    "\n",
    "resistencia del acero    :\n",
    "tama;o max de columnas   :\n",
    "altura max de viga       :\n",
    "```"
   ]
  },
  {
   "cell_type": "markdown",
   "id": "equivalent-squad",
   "metadata": {},
   "source": [
    "La recuperacion de los datos del archivo ingresado por el usuario se\n",
    "presenta en el siguiente bloque:"
   ]
  },
  {
   "cell_type": "code",
   "execution_count": 2,
   "id": "coated-therapist",
   "metadata": {},
   "outputs": [
    {
     "name": "stdout",
     "output_type": "stream",
     "text": [
      "['1', '1', '1', '300', '200', '0', '0.25', '19.5', '2500', '0', '', '', '', '', '', '']\n",
      "[1, 1, 1, 300.0, 200.0, 0.0, 0.25, 19.5, 2500.0, 0.0, 'def', 'def', 'def', 'def', 'def', 'def']\n"
     ]
    }
   ],
   "source": [
    "# recuperacion de datos\n",
    "\n",
    "with open('../IO/input.txt', encoding='utf-8') as in_text:\n",
    "    in_temp = in_text.readlines()\n",
    "\n",
    "default = {\n",
    "    'numero de pisos': '1',\n",
    "    'numero habitaciones': '1',\n",
    "    'numero de marcos': '1',\n",
    "    'altura de piso': '300',\n",
    "    'distancia entre columnas': '200',\n",
    "    'distancia entre marcos': '0',\n",
    "    'modulo de poisson 𝜈': '0.25',\n",
    "    'resistencia del hormigon': '19.5',\n",
    "    'densidad del hormigon': '2500',\n",
    "    'carga viva': '0',\n",
    "    'zona sismica': 'def',\n",
    "    'tipo de suelo': 'def',\n",
    "    'categoria de edificacion': 'def',\n",
    "    'resistencia del acero': 'def',\n",
    "    'tama;o max de columnas': 'def',\n",
    "    'altura max de viga': 'def',\n",
    "}\n",
    "\n",
    "user_op = []\n",
    "user_in = []\n",
    "\n",
    "for i in in_temp:\n",
    "    if i.startswith('\\n') == False:\n",
    "        user_op.append(i.partition(':')[0].strip())\n",
    "        user_in.append(i.partition(':')[2].strip())\n",
    "print(user_in)\n",
    "del in_temp\n",
    "if user_op != list(default.keys()): raise Exception('wena')\n",
    "\n",
    "for i in range(len(user_in)):\n",
    "    if user_in[i] == '':\n",
    "        user_in[i] = list(default.values())[i]\n",
    "    elif user_in[i].isalpha() == False:\n",
    "        user_in[i] = float(user_in[i])\n",
    "for i in range(3): user_in[i] = int(user_in[i])\n",
    "print(user_in)"
   ]
  },
  {
   "cell_type": "code",
   "execution_count": 3,
   "id": "bright-lease",
   "metadata": {},
   "outputs": [],
   "source": [
    "# Input desde archivo txt\n",
    "zona = '3'\n",
    "categoria = 'II'\n",
    "suelo = 'E'\n",
    "R = 5.5\n",
    "h_pisos = 2.4 # [m] pero despues sera en cm y despues en varias unidades\n",
    "n_pisos = 3\n",
    "n_vanos = 3\n",
    "h_losas = 20 # [cm]\n",
    "VIVO = 20000 # [kg]"
   ]
  },
  {
   "cell_type": "markdown",
   "id": "established-douglas",
   "metadata": {},
   "source": [
    "## Definicion de elementos\n",
    "\n",
    "- [volver](#Indice)\n",
    "\n",
    "En esta seccion, primero se define una clase con todos los atributos\n",
    "de un elemento 'barra' para luego inicializar tantos elementos como\n",
    "sean necesarios y se almacenan en una lista."
   ]
  },
  {
   "cell_type": "code",
   "execution_count": 4,
   "id": "composed-portal",
   "metadata": {},
   "outputs": [],
   "source": [
    "# definicion de elementos\n",
    "\n",
    "class barra():\n",
    "    # agregar rigidos\n",
    "    def __init__(bar, nodos, i, j, x0, y0, x1, y1, b, h, ϰ, 𝜈, 𝛾, fc):\n",
    "        \"\"\"Define los parametros del perfil y material de un elemento 'barra'.\"\"\"\n",
    "        \n",
    "        #### ## input ## ####\n",
    "        bar.i = i # nodo A\n",
    "        bar.j = j # nodo B\n",
    "        bar.x0 = x0 # [cm]\n",
    "        bar.y0 = y0 # [cm]\n",
    "        bar.x1 = x1 # [cm]\n",
    "        bar.y1 = y1 # [cm]\n",
    "        bar.b = b # [cm]\n",
    "        bar.h = h # [cm]\n",
    "        bar.ϰ = ϰ # factor de forma de la seccion\n",
    "        bar.𝜈 = 𝜈 # modulo de poisson\n",
    "        bar.𝛾 = 𝛾 # [kg/m3] densidad\n",
    "        bar.fc = fc # [MPa]\n",
    "        \n",
    "        if x0 != x1:\n",
    "            bar.name = 'VIGA'\n",
    "        else:\n",
    "            bar.name = 'COL'\n",
    "\n",
    "        #### ## internals ## ####\n",
    "        bar.GdL(i, j, nodos) # grados de libertad\n",
    "\n",
    "        bar.L = ((x1 - x0)**2 + (y1 - y0)**2)**0.5 # [cm]\n",
    "        bar.s = (y1 - y0)/bar.L # seno\n",
    "        bar.c = (x1 - x0)/bar.L # coseno\n",
    "        bar.A = b*h # [cm2]\n",
    "        bar.I = b*h**3/12 # [cm4]\n",
    "        bar.E = 𝛾**1.5*0.043*fc**0.5/9.80665/0.01 # [kg/mm2]/0.01 = [kg/cm2]\n",
    "        bar.G = bar.E/(2*(1+𝜈)) # modulo de cizalle\n",
    "        bar.β = 6*bar.E*bar.I*ϰ/(bar.G*bar.A*bar.L**2)\n",
    "\n",
    "        bar.rigidez_local(bar.L, bar.A, bar.I, bar.E, bar.β)\n",
    "        bar.compatibilidad_geometrica(bar.s, bar.c, bar.L)\n",
    "\n",
    "        bar.K = bar.a.T@bar.k@bar.a # rigidez global\n",
    "        \n",
    "    def GdL(bar, a, b, nodosEstruc, tipo=''):\n",
    "        \"\"\"Prepara la matriz de transformacion de cada barra.\"\"\"\n",
    "        bar.T = zeros([6, 3*nodosEstruc])\n",
    "        if a > nodosEstruc or b > nodosEstruc:\n",
    "            print('index error')\n",
    "            return\n",
    "        if a < 0 or b < 0:\n",
    "            print('index error')\n",
    "            return\n",
    "        if a != 0:\n",
    "            bar.T[0, 3*a - 3] = 1\n",
    "            bar.T[1, 3*a - 2] = 1\n",
    "            bar.T[2, 3*a - 1] = 1\n",
    "        if b != 0:\n",
    "            bar.T[3, 3*b - 3] = 1\n",
    "            bar.T[4, 3*b - 2] = 1\n",
    "            bar.T[5, 3*b - 1] = 1\n",
    "\n",
    "    def compatibilidad_geometrica(bar, s, c, L):\n",
    "        bar.a = array([\n",
    "            [-s/L, c/L, 1,  s/L, -c/L, 0],\n",
    "            [-s/L, c/L, 0,  s/L, -c/L, 1],\n",
    "            [ c,   s,   0, -c,   -s,   0]\n",
    "        ])\n",
    "\n",
    "    def rigidez_local(bar, L, A, I, E, β):\n",
    "        k11 = 2*E*I*(2 + β)/(L*(1 + 2*β))\n",
    "        k12 = 2*E*I*(1 - β)/(L*(1 + 2*β))\n",
    "        k21 = k12\n",
    "        k22 = k11\n",
    "        k33 = A*E/L\n",
    "        bar.k = array([\n",
    "            [k11, k12, 0  ],\n",
    "            [k21, k22, 0  ],\n",
    "            [0,   0,   k33]\n",
    "        ])\n",
    "\n",
    "    def addDistF(bar, a, b, fa, fb, coord='Y'):\n",
    "        \"\"\"Ingresa una fuerza distribuida desde 'a' hasta 'b'.\"\"\"\n",
    "        pass\n",
    "\n",
    "    def sigma(bar, r_global): # sin uso - borrar\n",
    "        # σ = k@ε\n",
    "        # ε = a@r_i\n",
    "        # r_i = T@r\n",
    "        # σ = k@a@T@r\n",
    "        bar.σ = bar.k@bar.a@bar.T@r_global # esfuerzos\n",
    "\n",
    "    r = 0 # desplazamientos\n",
    "    ε = 0 # deformaciones\n",
    "    σ = 0 # esfuerzos [Ma, Mb, F]\n",
    "    v = 0 # esfuerzo de corte\n",
    "    d_load = [] # [kg/cm] - cargas distribuidas\n",
    "    \n",
    "    # despues agregar tramos rigidos"
   ]
  },
  {
   "cell_type": "code",
   "execution_count": 17,
   "id": "frozen-blocking",
   "metadata": {
    "scrolled": false
   },
   "outputs": [
    {
     "name": "stdout",
     "output_type": "stream",
     "text": [
      "[[-0.00833333  0.          1.          0.00833333 -0.          0.        ]\n",
      " [-0.00833333  0.          0.          0.00833333 -0.          1.        ]\n",
      " [ 0.          1.          0.         -0.         -1.          0.        ]]\n"
     ]
    }
   ],
   "source": [
    "NODOS = 8 # cantidad de uniones de la estructura\n",
    "b_VIG = 30\n",
    "h_VIG = 40\n",
    "b_COL = 30\n",
    "h_COL = 30\n",
    "ϰ = 0\n",
    "𝜈 = 0.25\n",
    "𝛾 = 2500\n",
    "fc = 19.5\n",
    "\n",
    "def miembros():\n",
    "    \"\"\"Genera todos los elementos 'barra' de la estructura.\"\"\"\n",
    "    barras = []\n",
    "    m1 = barra(NODOS, 0, 1, 0, 0, 0, 120, b_COL, h_COL, ϰ, 𝜈, 𝛾, fc)\n",
    "    m2 = barra(NODOS, 0, 2, 150, 0, 150, 120, b_COL, h_COL, ϰ, 𝜈, 𝛾, fc)\n",
    "    m3 = barra(NODOS, 0, 3, 300, 0, 300, 120, b_COL, h_COL, ϰ, 𝜈, 𝛾, fc)\n",
    "    m4 = barra(NODOS, 0, 4, 450, 0, 450, 120, b_COL, h_COL, ϰ, 𝜈, 𝛾, fc)\n",
    "    m5 = barra(NODOS, 1, 5, 0, 120, 0, 240, b_COL, h_COL, ϰ, 𝜈, 𝛾, fc)\n",
    "    m6 = barra(NODOS, 2, 6, 150, 120, 150, 240, b_COL, h_COL, ϰ, 𝜈, 𝛾, fc)\n",
    "    m7 = barra(NODOS, 3, 7, 300, 120, 300, 240, b_COL, h_COL, ϰ, 𝜈, 𝛾, fc)\n",
    "    m8 = barra(NODOS, 4, 8, 450, 120, 450, 240, b_COL, h_COL, ϰ, 𝜈, 𝛾, fc)\n",
    "    m9  = barra(NODOS, 1, 2, 0, 120, 150, 120, b_VIG, h_VIG, ϰ, 𝜈, 𝛾, fc)\n",
    "    m10 = barra(NODOS, 2, 3, 150, 120, 300, 120, b_VIG, h_VIG, ϰ, 𝜈, 𝛾, fc)\n",
    "    m11 = barra(NODOS, 3, 4, 300, 120, 450, 120, b_VIG, h_VIG, ϰ, 𝜈, 𝛾, fc)\n",
    "    m12 = barra(NODOS, 5, 6, 0, 240, 150, 240, b_VIG, h_VIG, ϰ, 𝜈, 𝛾, fc)\n",
    "    m13 = barra(NODOS, 6, 7, 150, 240, 300, 240, b_VIG, h_VIG, ϰ, 𝜈, 𝛾, fc)\n",
    "    m14 = barra(NODOS, 7, 8, 300, 240, 450, 240, b_VIG, h_VIG, ϰ, 𝜈, 𝛾, fc)\n",
    "\n",
    "    for i in range(1, 15):\n",
    "        exec('barras.append(m' + str(i) + ')')\n",
    "    return barras\n",
    "\n",
    "miembro = [None] + miembros()\n",
    "\n",
    "K_s = zeros((3*NODOS, 3*NODOS)) # rigidez del sistema\n",
    "for m in miembro:\n",
    "    if m == None: continue\n",
    "    K_s += m.T.T@m.K@m.T\n",
    "\n",
    "p(miembro[3].a)\n",
    "#dir()"
   ]
  },
  {
   "cell_type": "markdown",
   "id": "willing-airfare",
   "metadata": {},
   "source": [
    "## Cargas distribuidas\n",
    "\n",
    "- [volver](#Indice)\n",
    "\n",
    "Para cada elemento, se calculan las cargas distribuidas muertas y\n",
    "vivas en funcion de la geometria del perimetro que forman asumiendo\n",
    "que en cada elemento descarga una losa."
   ]
  },
  {
   "cell_type": "markdown",
   "id": "solid-adobe",
   "metadata": {},
   "source": [
    "para el input de las cargas muertas es necesario conocer:\n",
    "\n",
    "- distancia entre marcos\n",
    "\n",
    "objetivo\n",
    "\n",
    "- vector de cargas muertas\n",
    "\n",
    "vector cargas muertas:\n",
    "\n",
    "- peso propio marco\n",
    "    - peso propio por elemento\n",
    "- peso losas\n",
    "\n"
   ]
  },
  {
   "cell_type": "code",
   "execution_count": 6,
   "id": "governmental-defeat",
   "metadata": {},
   "outputs": [],
   "source": [
    "# cargas vivas = input"
   ]
  },
  {
   "cell_type": "code",
   "execution_count": 7,
   "id": "hybrid-plaza",
   "metadata": {},
   "outputs": [],
   "source": [
    "# cargas muertas = peso propio"
   ]
  },
  {
   "cell_type": "markdown",
   "id": "after-surname",
   "metadata": {},
   "source": [
    "## Cargas nodales\n",
    "\n",
    "- [volver](#Indice)\n",
    "\n",
    "A partir de un analisis de una viga doblemente empotrada, se calculan\n",
    "las reacciones de esta para cada caso, considerando la continuidad de\n",
    "una losa que descargue sobre el marco. Para esto se consideran las\n",
    "formulas de empotramiento perfecto de cargas lineales y continuas. De\n",
    "este modo, se obtiene la carga trapezoidal resultante de la\n",
    "superposicion de hasta tres casos de cargas por viga.\n",
    "\n",
    "Formula para una carga constante:"
   ]
  },
  {
   "cell_type": "code",
   "execution_count": 8,
   "id": "pressed-cutting",
   "metadata": {},
   "outputs": [
    {
     "name": "stdout",
     "output_type": "stream",
     "text": [
      "521.1 678.9 242.1 -279.9\n"
     ]
    }
   ],
   "source": [
    "def q_rec(L, q, a, b, d):\n",
    "    \"\"\"Calculo de las reacciones para una carga constante.\"\"\"\n",
    "    Ra = q*d/L**3*((2*a + L)*b**2 + (a - b)/4*d**2)\n",
    "    Rb = q*d/L**3*((2*b + L)*a**2 - (a - b)/4*d**2)\n",
    "    Ma = q*d/L**2*(a*b**2 + d**2/12*(L - 3*b))\n",
    "    Mb = -q*d/L**2*(a**2*b + d**2/12*(L - 3*a))\n",
    "\n",
    "    print(round(Ra, 1), round(Rb, 1), round(Ma, 1), round(Mb, 1))\n",
    "    return Ra, Rb, Ma, Mb\n",
    "\n",
    "l = 2\n",
    "q = 1000\n",
    "d = 1.2\n",
    "a = 0.5 + d/2\n",
    "b = l - a\n",
    "\n",
    "q_rec(l, q, a, b, d);"
   ]
  },
  {
   "cell_type": "markdown",
   "id": "included-candy",
   "metadata": {},
   "source": [
    "Formula para una carga lineal:"
   ]
  },
  {
   "cell_type": "code",
   "execution_count": 9,
   "id": "stainless-midwest",
   "metadata": {},
   "outputs": [
    {
     "name": "stdout",
     "output_type": "stream",
     "text": [
      "229.7 20.3 55.2 -12.5\n"
     ]
    }
   ],
   "source": [
    "def q_tri(L, q, a):\n",
    "    \"\"\"Calculo de las reacciones para una carga lineal\"\"\"\n",
    "    Ra = q*a/20*(10 - a**2/L**2*(15 - 8*a/L))\n",
    "    Rb = q*a**3/(20*L**2)*(15-8*a/L)\n",
    "    Ma = q*a**2/30*(10 - a/L*(15 - 6*a/L))\n",
    "    Mb = -q*a**3/(20*L)*(5 - 4*a/L)\n",
    "    print(round(Ra, 1), round(Rb, 1), round(Ma, 1), round(Mb, 1))\n",
    "    return Ra, Rb, Ma, Mb\n",
    "\n",
    "l = 2\n",
    "q = 1000\n",
    "a = 0.5\n",
    "b = l - a\n",
    "\n",
    "q_tri(l, q, a);"
   ]
  },
  {
   "cell_type": "markdown",
   "id": "discrete-athens",
   "metadata": {},
   "source": [
    "La superposicion de las cargas lineales y constantes se lleva a cabo\n",
    "en el siguiente bloque (pero no recuerdo como funciona xd):"
   ]
  },
  {
   "cell_type": "code",
   "execution_count": 10,
   "id": "south-happening",
   "metadata": {},
   "outputs": [],
   "source": [
    "# superposicion de casos de carga de una viga cualquiera\n",
    "\n",
    "def nomeacuerdodeesto():\n",
    "    r = [[],[],[]]\n",
    "    joints = []\n",
    "\n",
    "    L = 2\n",
    "    a = 0.5\n",
    "    b = 0.3\n",
    "    d = 1.2\n",
    "    q = 1000\n",
    "\n",
    "    *r[0], = q_tri(L, q, a)\n",
    "    *r[1], = q_rec(L, q, a + d/2, b + d/2, d)\n",
    "    *r[2], = q_tri(L, q, b)\n",
    "\n",
    "    r[2][0], r[2][1] = r[2][1], r[2][0]\n",
    "    r[2][2], r[2][3] = -r[2][3], -r[2][2]\n",
    "\n",
    "    for i in range(4):\n",
    "        joints.append(0)\n",
    "        for j in range(3):\n",
    "            joints[i] += r[j][i]\n",
    "\n",
    "    line()\n",
    "\n",
    "    print('Va:', round(joints[0], 1))\n",
    "    print('Vb:', round(joints[1], 1))\n",
    "    print('Ma:', round(joints[2], 1))\n",
    "    print('Mb:', round(joints[3], 1))"
   ]
  },
  {
   "cell_type": "markdown",
   "id": "adverse-shopper",
   "metadata": {},
   "source": [
    "## Analisis estatico\n",
    "\n",
    "- [volver](#Indice)\n",
    "\n",
    "Se genera un vector de fuerzas solicitantes, E, a partir del metodo\n",
    "estatico."
   ]
  },
  {
   "cell_type": "code",
   "execution_count": 11,
   "id": "split-variation",
   "metadata": {
    "scrolled": false
   },
   "outputs": [
    {
     "name": "stdout",
     "output_type": "stream",
     "text": [
      "0.4 1.0 1.3 1.2 1.35 1.8 1.0 0.208 0.0867 0.208 23920.0 (0, 45000.0, 45000.0, 25000.0) 115000.0\n",
      "1 2.4 0.184\n",
      "2 4.8 0.239\n",
      "3 7.2 0.577\n",
      "33452.99461620748\n",
      "[0.0, 5904.496220906295, 7694.889288930095, 10320.614490163613]\n"
     ]
    }
   ],
   "source": [
    "# cargas sismicas - metodo estatico\n",
    "def metodo_estatico(zona, categoria, suelo, R, h_pisos, n_pisos, n_vanos):\n",
    "    \"\"\"Calcula un vector con las fuerzas horizontales producto del sismo.\"\"\"\n",
    "    TABLA_I = { # Tabla 6.1\n",
    "        # \"CategoriaDeEdificio\": I,\n",
    "        \"I\": 0.6,\n",
    "        \"II\": 1.0,\n",
    "        \"III\": 1.2,\n",
    "        \"IV\": 1.2,\n",
    "    }\n",
    "\n",
    "    TABLA_A0 = { # Tabla 6.2\n",
    "        # \"ZonaSismica\": A0/g,\n",
    "        \"1\": 0.20,\n",
    "        \"2\": 0.30,\n",
    "        \"3\": 0.40,\n",
    "    }\n",
    "\n",
    "    TABLA_PARAMETROS_SUELO = { # Tabla 6.3\n",
    "        # \"TipoDeSuelo\": (S, T0, Tp [T'], n, p),\n",
    "        \"A\": (0.90, 0.15, 0.20, 1.00, 2.0),\n",
    "        \"B\": (1.00, 0.30, 0.35, 1.33, 1.5),\n",
    "        \"C\": (1.05, 0.40, 0.45, 1.40, 1.6),\n",
    "        \"D\": (1.20, 0.75, 0.85, 1.80, 1.0),\n",
    "        \"E\": (1.30, 1.20, 1.35, 1.80, 1.0),\n",
    "        \"F\": (None, None, None, None, None),\n",
    "    }\n",
    "\n",
    "    TABLA_C_MAX = { # Tabla 6.4\n",
    "        # \"R\": CoeficienteC_max,\n",
    "        \"2\": 0.90,\n",
    "        \"3\": 0.60,\n",
    "        \"4\": 0.55,\n",
    "        \"5.5\": 0.40,\n",
    "        \"6\": 0.35,\n",
    "        \"7\": 0.35,\n",
    "    }\n",
    "\n",
    "    Tn = round(0.012*h_pisos*n_pisos, 4)\n",
    "\n",
    "    A0 = TABLA_A0[zona] # aceleracion efectiva\n",
    "    I = TABLA_I[categoria]\n",
    "    S, T0, Tp, n, p = TABLA_PARAMETROS_SUELO[suelo]\n",
    "\n",
    "    # coeficiente sismico\n",
    "    Cmax = round(TABLA_C_MAX[str(R)]*S*A0, 8)\n",
    "    Cmin = A0*S/6\n",
    "    C = 2.75*S*A0/R*(Tp/Tn)**n\n",
    "\n",
    "    if C < Cmin: C = Cmin\n",
    "    elif C > Cmax: C = Cmax\n",
    "\n",
    "    VIVO = 20000 # [kg]\n",
    "    MUERTO = 40000 # [kg]\n",
    "    Pk = ( # peso propio por nivel\n",
    "        0, # nivel 0 (suelo)\n",
    "        0.25*VIVO + MUERTO,\n",
    "        0.25*VIVO + MUERTO,\n",
    "        0.25*VIVO + MUERTO/2,\n",
    "    )\n",
    "\n",
    "    P = 0 # [kg] - peso sismico\n",
    "    for i in Pk:\n",
    "        P += i\n",
    "\n",
    "    Q0 = C*I*P # [kg] corte basal\n",
    "\n",
    "    print(A0, I, S, T0, Tp, n, p, Cmax, round(Cmin, 4), round(C, 4), Q0, Pk, P) # borrame\n",
    "\n",
    "    H = round(h_pisos*n_pisos, 4)\n",
    "    Z = [0] + [round(i*h_pisos, 4) for i in range(1, n_pisos + 1)]\n",
    "    A = [0]\n",
    "    for k, _ in enumerate(Z):\n",
    "        if k == 0: continue\n",
    "        A.append(\n",
    "            (1 - Z[k - 1]/H)**0.5 - (1 - Z[k]/H)**0.5\n",
    "        )\n",
    "        print(k, Z[k], round(A[k], 3)) # borrame\n",
    "\n",
    "    P = Pk\n",
    "    del Pk\n",
    "\n",
    "    F = []\n",
    "    AjPj = sum([i*k for i, k in zip(A, P)])\n",
    "    for k, _ in enumerate(P): F.append(A[k]*P[k]/AjPj*Q0)\n",
    "\n",
    "    print(AjPj) # borrame\n",
    "    print((F)) # borrame\n",
    "\n",
    "    fx = []\n",
    "    for k, _ in enumerate(F):\n",
    "        if k == 0: continue\n",
    "        for i in range(n_vanos + 1):\n",
    "            fx.append(F[k]/(n_vanos + 1))\n",
    "            fx.append(0)\n",
    "            fx.append(0)\n",
    "    return array(fx).T\n",
    "\n",
    "E = metodo_estatico(zona, categoria, suelo, R, h_pisos, n_pisos, n_vanos)"
   ]
  },
  {
   "cell_type": "markdown",
   "id": "formed-imagination",
   "metadata": {},
   "source": [
    "## Combinaciones de carga\n",
    "\n",
    "- [volver](#Indice)\n",
    "\n",
    "Se genera un vector de fuerzas, _S_, para cada combinacion de cargas."
   ]
  },
  {
   "cell_type": "code",
   "execution_count": 12,
   "id": "waiting-failure",
   "metadata": {},
   "outputs": [],
   "source": [
    "# vector de fuerzas segun casos de carga\n",
    "    # 1.4*D\n",
    "    # 1.2*D + 1.6*L\n",
    "    # 1.2*D + 1.4*E + L\n",
    "    # 1.2*D - 1.4*E + L\n",
    "    # 0.9*D + 1.4*E\n",
    "    # 0.9*D - 1.4*E\n",
    "\n",
    "S = array([500, -1000, 0,\n",
    "           500, -1000, 0,\n",
    "           500, -1000, 0,\n",
    "           500, -1000, 0,\n",
    "           500, -1000, 0,\n",
    "           500, -1000, 0,\n",
    "           500, -1000, 0,\n",
    "           500, -1000, 0,\n",
    "    ]).T"
   ]
  },
  {
   "cell_type": "markdown",
   "id": "english-detection",
   "metadata": {},
   "source": [
    "## Caso mas desfavorable\n",
    "\n",
    "- [volver](#Indice)\n",
    "\n",
    "Se busca la combinacion de carga que controla el diseño, luego se\n",
    "busca en la estructura la viga y la columna mas desfavorable. En el\n",
    "caso de la viga, se calcula su momento al medio del elemento."
   ]
  },
  {
   "cell_type": "code",
   "execution_count": 13,
   "id": "nutritional-bahrain",
   "metadata": {
    "scrolled": false
   },
   "outputs": [
    {
     "name": "stdout",
     "output_type": "stream",
     "text": [
      "Ma: 620.0 359.0 -463.0 [kg-m]\n",
      "Mb: 469.0 402.0 -463.0 [kg-m]\n",
      "F: 930.0 995.0 -0.0 [kg]\n",
      "V: 908.0 634.0 -617.0 [kg]\n"
     ]
    }
   ],
   "source": [
    "r = inv(K_s)@S # desplazamientos\n",
    "\n",
    "for m in miembro: # finishing bars attributes\n",
    "    if m == None: continue\n",
    "    m.r = m.T@r\n",
    "    m.ε = m.a@m.r\n",
    "    m.σ = m.k@m.ε\n",
    "    m.v = (m.σ[0] + m.σ[1])/m.L\n",
    "\n",
    "print('Ma:', round(miembro[1].σ[0]/100, 0), round(miembro[7].σ[0]/100, 0), round(miembro[10].σ[0]/100, 0), '[kg-m]')\n",
    "print('Mb:', round(miembro[1].σ[1]/100, 0), round(miembro[7].σ[1]/100, 0), round(miembro[10].σ[1]/100, 0), '[kg-m]')\n",
    "print('F:', round(miembro[1].σ[2], 0), round(miembro[7].σ[2], 0), round(miembro[10].σ[2], 0), '[kg]')\n",
    "print('V:', round(miembro[1].v, 0), round(miembro[7].v, 0), round(miembro[10].v, 0), '[kg]')"
   ]
  },
  {
   "cell_type": "code",
   "execution_count": 14,
   "id": "cellular-third",
   "metadata": {},
   "outputs": [],
   "source": [
    "# viga y columna mas desfavorable\n",
    "\n",
    "worst_v = (0, 0, 0)\n",
    "worst_c = (0, 0, 0)\n",
    "\n",
    "for i, m in enumerate(miembro):\n",
    "    if m == None: continue\n",
    "    if m.name != 'VIGA': continue\n",
    "    if m.σ[0] + m.σ[1] > worst_c[0] + worst_c[1]: worst_c = (m.σ[0], m.σ[1], i)\n",
    "\n",
    "for i, m in enumerate(miembro):\n",
    "    if m == None: continue\n",
    "    if m.name != 'COL': continue\n",
    "    if m.σ[0] + m.σ[1] > worst_v[0] + worst_v[1]: worst_v = (m.σ[0], m.σ[1], i)"
   ]
  },
  {
   "cell_type": "code",
   "execution_count": 15,
   "id": "revolutionary-brass",
   "metadata": {},
   "outputs": [],
   "source": [
    "# momento max al centro"
   ]
  },
  {
   "cell_type": "markdown",
   "id": "super-composer",
   "metadata": {},
   "source": [
    "## Flujo de la aplicacion\n",
    "\n",
    "- [volver](#Indice)\n",
    "\n",
    "A continuacion, se resume el cuerpo de la aplicacion, donde se\n",
    "escribe de forma declarativa el flujo del programa."
   ]
  },
  {
   "cell_type": "code",
   "execution_count": 16,
   "id": "conscious-tiffany",
   "metadata": {},
   "outputs": [],
   "source": [
    "def pAPP():\n",
    "    leerInput()\n",
    "    armarEstructura()\n",
    "    optimus = False\n",
    "    while not optimus:\n",
    "        cargarCombos()\n",
    "        anal()\n",
    "        optijandro()\n",
    "        if jandro_is_true:\n",
    "            optimus = True\n",
    "        else:\n",
    "            nuevoPerfil()\n",
    "    reporte()\n",
    "    return 0\n",
    "\n",
    "#ned"
   ]
  }
 ],
 "metadata": {
  "kernelspec": {
   "display_name": "Python 3",
   "language": "python",
   "name": "python3"
  },
  "language_info": {
   "codemirror_mode": {
    "name": "ipython",
    "version": 3
   },
   "file_extension": ".py",
   "mimetype": "text/x-python",
   "name": "python",
   "nbconvert_exporter": "python",
   "pygments_lexer": "ipython3",
   "version": "3.9.1"
  }
 },
 "nbformat": 4,
 "nbformat_minor": 5
}
