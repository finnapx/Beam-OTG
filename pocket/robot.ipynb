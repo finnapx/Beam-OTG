{
 "cells": [
  {
   "cell_type": "code",
   "execution_count": 1,
   "metadata": {},
   "outputs": [],
   "source": [
    "from numpy import array, zeros, ones\n",
    "from numpy.linalg import inv, solve\n",
    "from math import pi as π, sin, cos"
   ]
  },
  {
   "cell_type": "markdown",
   "metadata": {},
   "source": [
    "## Rigidez local"
   ]
  },
  {
   "cell_type": "markdown",
   "metadata": {},
   "source": [
    "## Compatibilidad geometrica"
   ]
  },
  {
   "cell_type": "markdown",
   "metadata": {},
   "source": [
    "## Grados de libertad"
   ]
  },
  {
   "cell_type": "code",
   "execution_count": 2,
   "metadata": {},
   "outputs": [],
   "source": [
    "def K(k, a, b, gdl):\n",
    "    T = zeros([6, 3*gdl])\n",
    "    \n",
    "    # elseif x == 1 || y == 1\n",
    "    #     return \"reacts not considered\"\n",
    "    # elseif x == 19 || y == 19\n",
    "    #     return \"reacts not considered\"\n",
    "    # elif x > 20 or y > 20\n",
    "    #     return \"index error\"\n",
    "    \n",
    "    # x == 20 ? x-=1 : x\n",
    "    # y == 20 ? y-=1 : y\n",
    "    \n",
    "    if a > gdl or b > gdl: return 'index error'\n",
    "    \n",
    "    if a != 0:\n",
    "        T[0, 3*a - 3] = 1\n",
    "        T[1, 3*a - 2] = 1\n",
    "        #T[2, 3*a - 1] = 1\n",
    "    if b != 0:\n",
    "        T[3, 3*b - 3] = 1\n",
    "        T[4, 3*b - 2] = 1\n",
    "        #T[5, 3*b - 1] = 1\n",
    "    \n",
    "    print(T, '\\n')\n",
    "    return T.T@k@T"
   ]
  },
  {
   "cell_type": "code",
   "execution_count": 3,
   "metadata": {},
   "outputs": [
    {
     "name": "stdout",
     "output_type": "stream",
     "text": [
      "[[0. 0. 0. 1. 0. 0. 0. 0. 0. 0. 0. 0.]\n",
      " [0. 0. 0. 0. 1. 0. 0. 0. 0. 0. 0. 0.]\n",
      " [0. 0. 0. 0. 0. 0. 0. 0. 0. 0. 0. 0.]\n",
      " [0. 0. 0. 0. 0. 0. 0. 0. 0. 1. 0. 0.]\n",
      " [0. 0. 0. 0. 0. 0. 0. 0. 0. 0. 1. 0.]\n",
      " [0. 0. 0. 0. 0. 0. 0. 0. 0. 0. 0. 0.]] \n",
      "\n",
      "[[0. 0. 0. 0. 0. 0. 0. 0. 0. 0. 0. 0.]\n",
      " [0. 0. 0. 0. 0. 0. 0. 0. 0. 0. 0. 0.]\n",
      " [0. 0. 0. 0. 0. 0. 0. 0. 0. 0. 0. 0.]\n",
      " [0. 0. 0. 1. 1. 0. 0. 0. 0. 1. 1. 0.]\n",
      " [0. 0. 0. 1. 1. 0. 0. 0. 0. 1. 1. 0.]\n",
      " [0. 0. 0. 0. 0. 0. 0. 0. 0. 0. 0. 0.]\n",
      " [0. 0. 0. 0. 0. 0. 0. 0. 0. 0. 0. 0.]\n",
      " [0. 0. 0. 0. 0. 0. 0. 0. 0. 0. 0. 0.]\n",
      " [0. 0. 0. 0. 0. 0. 0. 0. 0. 0. 0. 0.]\n",
      " [0. 0. 0. 1. 1. 0. 0. 0. 0. 1. 1. 0.]\n",
      " [0. 0. 0. 1. 1. 0. 0. 0. 0. 1. 1. 0.]\n",
      " [0. 0. 0. 0. 0. 0. 0. 0. 0. 0. 0. 0.]]\n"
     ]
    }
   ],
   "source": [
    "gdl = 4\n",
    "a = 2\n",
    "b = 4\n",
    "t = K(ones([6, 6]), a, b, gdl)\n",
    "print(t)"
   ]
  }
 ],
 "metadata": {
  "kernelspec": {
   "display_name": "Python 3",
   "language": "python",
   "name": "python3"
  },
  "language_info": {
   "codemirror_mode": {
    "name": "ipython",
    "version": 3
   },
   "file_extension": ".py",
   "mimetype": "text/x-python",
   "name": "python",
   "nbconvert_exporter": "python",
   "pygments_lexer": "ipython3",
   "version": "3.8.3"
  }
 },
 "nbformat": 4,
 "nbformat_minor": 4
}
