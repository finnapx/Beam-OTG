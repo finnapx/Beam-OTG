{
 "cells": [
  {
   "cell_type": "markdown",
   "metadata": {},
   "source": [
    "## Introduccion\n",
    "\n",
    "__pocket-β / β-beam__ es un programa pensado para facilitar el\n",
    "dialogo en torno a la toma de decisiones de proyectos ligados al\n",
    "dise;o de marcos de hormigon armado. Soluciona la busqueda de un\n",
    "perfil apropiado para reducir los ciclos necesarios de pruebas para\n",
    "encontrar un perfil que cumpla con caracteristicas de resistencia y\n",
    "caracteristicas economicas.\n",
    "\n",
    "β-beam aspira a ser un programa que se desenvuelva en el entorno\n",
    "profesional al mismo nivel que podrian ofrecer otros programas\n",
    "reconocidos en el rubro en el ambito del analisis estructural, de\n",
    "licencia no restrictiva y que incentive a la comunidad academica a\n",
    "usar software libre, respetando las licencias de otros programas sin\n",
    "recurrir a cracks que potencialmente pueden poner en peligro tanto\n",
    "instituciones academicas como de ambientes profesionales.\n",
    "\n",
    "## Objetivos\n",
    "\n",
    "1. Ofrecer un calculo estructural de marcos regulares preciso como\n",
    "otros programas conocidos.\n",
    "1. Ser de uso sencillo y veloz para desenvolverse principalmente en\n",
    "la toma de decisiones en reuniones rapidas y efectivas.\n",
    "1. Ofrecer una alternativa de calidad al alcance de una comunidad mas\n",
    "grande, eliminando las barreras de licencias extremadamente caras.\n",
    "1. Tener reconocimiento y uso en el mundo academico.\n",
    "\n",
    "\n",
    "## To-Do list:\n",
    "\n",
    "- [ ] Analisis matricial:\n",
    "    - [ ] ~Algebra matricial:~\n",
    "        - [x] Definicion de matrices.\n",
    "        - [ ] Operaciones de matrices.\n",
    "            - [ ] Suma y resta.\n",
    "            - [ ] Multiplicacion.\n",
    "        - [ ] Solucion de ecuaciones matriciales.\n",
    "        - [ ] Matriz inversa.\n",
    "    - [ ] Generador de grados de libertad.\n",
    "    - ...\n",
    "- [ ] Cubicacion.\n",
    "- [ ] Analisis sismo resistente.\n",
    "    - [ ] Analisis estatico.\n",
    "- [ ] Optimizacion de perfiles.\n",
    "    - ...\n",
    "\n",
    "123456789012345678901234567890123456789012345678901234567890123456789"
   ]
  },
  {
   "cell_type": "markdown",
   "metadata": {},
   "source": [
    "## Extras"
   ]
  },
  {
   "cell_type": "code",
   "execution_count": 1,
   "metadata": {},
   "outputs": [],
   "source": [
    "# shitting shits\n",
    "def line(): print('---- -- - -- ----')\n",
    "def p(o):\n",
    "    for i in o: print(i)"
   ]
  },
  {
   "cell_type": "markdown",
   "metadata": {},
   "source": [
    "## Codigo"
   ]
  },
  {
   "cell_type": "code",
   "execution_count": 2,
   "metadata": {
    "scrolled": false
   },
   "outputs": [],
   "source": [
    "class mx():\n",
    "    mnError = 'merengue'\n",
    "    rangeError = 'Fuera del rango'\n",
    "    t = 'for transpose some day'\n",
    "    m = 'some day with m'\n",
    "    n = 'some day with n'\n",
    "    def __init__(matrix, *mn):\n",
    "        # agregar verificacion de largos de filas\n",
    "        if type(mn) == tuple:\n",
    "            print(len(mn))\n",
    "            matrix.body = mn\n",
    "        else:\n",
    "            raise Exception(matrix.mnError)\n",
    "    def __lt__(matrix, mn):\n",
    "        # agregar verificacion de listas (aca y atras)\n",
    "        if type(mn) == tuple:\n",
    "            #print(len(mn))\n",
    "            matrix.body = mn\n",
    "        else:\n",
    "            raise Exception(matrix.mnError)\n",
    "    def __repr__(matrix):\n",
    "        return str(matrix.body)\n",
    "    def __str__(matrix):\n",
    "        for i in matrix.body: print(i)\n",
    "        # update to octave like print...\n",
    "        return ''\n",
    "    def __getitem__(matrix, mn):\n",
    "        #print(mn, type(mn))\n",
    "        if type(mn) == int and mn >= 1:\n",
    "            return matrix.body[mn - 1]\n",
    "        if type(mn) == tuple and len(mn) == 2 and mn[0] >= 1 and mn[1] >= 1:\n",
    "            return matrix.body[mn[0] - 1][mn[1] - 1]\n",
    "        else:\n",
    "            raise Exception(matrix.rangeError)\n",
    "    def __setitem__(matrix, mn, data):\n",
    "        if type(mn) == tuple and len(mn) == 2:\n",
    "            matrix.body[mn[0] - 1][mn[1] - 1] = data\n",
    "        else:\n",
    "            raise Exception(matrix.rangeError)\n",
    "    def __iter__(matrix):\n",
    "        return iter(matrix.body)\n",
    "    def __len__(matrix): pass\n",
    "    def __add__(matrix): pass\n",
    "    def __radd__(matrix): pass\n",
    "    def __sub__(matrix): pass\n",
    "    def __rsub__(matrix): pass\n",
    "    def __mul__(matrix): pass\n",
    "    def __rmul__(matrix): pass\n",
    "    def __pow__(matrix): pass\n",
    "    def __matmul__(matrix): pass\n",
    "\n",
    "#help(mx)\n",
    "#help(list)"
   ]
  },
  {
   "cell_type": "markdown",
   "metadata": {},
   "source": [
    "## Asignacion y reasignacion"
   ]
  },
  {
   "cell_type": "code",
   "execution_count": 3,
   "metadata": {},
   "outputs": [
    {
     "name": "stdout",
     "output_type": "stream",
     "text": [
      "0\n"
     ]
    },
    {
     "data": {
      "text/plain": [
       "()"
      ]
     },
     "execution_count": 3,
     "metadata": {},
     "output_type": "execute_result"
    }
   ],
   "source": [
    "a = mx()\n",
    "a"
   ]
  },
  {
   "cell_type": "code",
   "execution_count": 4,
   "metadata": {},
   "outputs": [
    {
     "name": "stdout",
     "output_type": "stream",
     "text": [
      "2\n"
     ]
    },
    {
     "data": {
      "text/plain": [
       "([1, 2], [3, 4])"
      ]
     },
     "execution_count": 4,
     "metadata": {},
     "output_type": "execute_result"
    }
   ],
   "source": [
    "a = mx([1, 2], [3, 4])\n",
    "a"
   ]
  },
  {
   "cell_type": "code",
   "execution_count": 5,
   "metadata": {},
   "outputs": [
    {
     "data": {
      "text/plain": [
       "([1, 2, 4, 3], [3, 4, 3, 2], [1, 2, 3, 2])"
      ]
     },
     "execution_count": 5,
     "metadata": {},
     "output_type": "execute_result"
    }
   ],
   "source": [
    "a < ([1, 2,4,3], [3, 4,3,2],[1, 2,3,2])\n",
    "a"
   ]
  },
  {
   "cell_type": "markdown",
   "metadata": {},
   "source": [
    "## Metodos de Impresion"
   ]
  },
  {
   "cell_type": "code",
   "execution_count": 6,
   "metadata": {},
   "outputs": [
    {
     "name": "stdout",
     "output_type": "stream",
     "text": [
      "con str()\n",
      "[1, 2, 4, 3]\n",
      "[3, 4, 3, 2]\n",
      "[1, 2, 3, 2]\n",
      "---- -- - -- ----\n",
      "con repr()\n",
      "---- -- - -- ----\n",
      "con str() y print()\n",
      "[1, 2, 4, 3]\n",
      "[3, 4, 3, 2]\n",
      "[1, 2, 3, 2]\n",
      "\n",
      "---- -- - -- ----\n",
      "con repr() y print()\n",
      "([1, 2, 4, 3], [3, 4, 3, 2], [1, 2, 3, 2])\n",
      "---- -- - -- ----\n"
     ]
    }
   ],
   "source": [
    "print('con str()'); str(a); line()\n",
    "print('con repr()'); repr(a); line()\n",
    "print('con str() y print()'); print(str(a)); line()\n",
    "print('con repr() y print()'); print(repr(a)); line()"
   ]
  },
  {
   "cell_type": "markdown",
   "metadata": {},
   "source": [
    "## Test de Indexado"
   ]
  },
  {
   "cell_type": "code",
   "execution_count": 7,
   "metadata": {},
   "outputs": [
    {
     "name": "stdout",
     "output_type": "stream",
     "text": [
      "[1, 2, 4, 3]\n",
      "[5, 4, 6, 8]\n",
      "[0, 9, 3, 5]\n",
      "\n"
     ]
    }
   ],
   "source": [
    "a < ([1, 2,4,3], [5, 4,6,8],[0, 9,3,5])\n",
    "print(a)"
   ]
  },
  {
   "cell_type": "code",
   "execution_count": 8,
   "metadata": {
    "scrolled": false
   },
   "outputs": [
    {
     "name": "stdout",
     "output_type": "stream",
     "text": [
      "fila: [5, 4, 6, 8]\n",
      "indice: 6\n"
     ]
    },
    {
     "data": {
      "text/plain": [
       "True"
      ]
     },
     "execution_count": 8,
     "metadata": {},
     "output_type": "execute_result"
    }
   ],
   "source": [
    "m, n = 2, 3\n",
    "print('fila:', a[m])\n",
    "print('indice:', a[m,n])\n",
    "a[m][n - 1] == a[m,n]"
   ]
  },
  {
   "cell_type": "code",
   "execution_count": 9,
   "metadata": {},
   "outputs": [
    {
     "name": "stdout",
     "output_type": "stream",
     "text": [
      "[1, 2, 4, 3]\n",
      "[5, 4, 6, 8]\n",
      "[0, 9, 3, 5]\n",
      "\n",
      "[1, 2, 4, 3]\n",
      "[5, 69, 6, 8]\n",
      "[0, 9, 3, 5]\n",
      "\n"
     ]
    }
   ],
   "source": [
    "print(a)\n",
    "a[2,2] = 69\n",
    "print(a)"
   ]
  },
  {
   "cell_type": "code",
   "execution_count": 10,
   "metadata": {},
   "outputs": [
    {
     "name": "stdout",
     "output_type": "stream",
     "text": [
      "['lel', 'lel', 'lel', 'lel']\n",
      "['lel', 'lel', 'lel', 'lel']\n",
      "['lel', 'lel', 'lel', 'lel']\n",
      "\n",
      "dimensiones: {3, 4}\n"
     ]
    }
   ],
   "source": [
    "i, j = 0, 0\n",
    "for m in a:\n",
    "    i += 1\n",
    "    j = 0\n",
    "    for n in m:\n",
    "        #print(i,j)\n",
    "        j += 1\n",
    "        a[i, j] = 'lel'\n",
    "\n",
    "print(a); print('dimensiones: {', i, ', ', j, '}', sep='')"
   ]
  }
 ],
 "metadata": {
  "kernelspec": {
   "display_name": "Python 3",
   "language": "python",
   "name": "python3"
  },
  "language_info": {
   "codemirror_mode": {
    "name": "ipython",
    "version": 3
   },
   "file_extension": ".py",
   "mimetype": "text/x-python",
   "name": "python",
   "nbconvert_exporter": "python",
   "pygments_lexer": "ipython3",
   "version": "3.8.3"
  }
 },
 "nbformat": 4,
 "nbformat_minor": 4
}
